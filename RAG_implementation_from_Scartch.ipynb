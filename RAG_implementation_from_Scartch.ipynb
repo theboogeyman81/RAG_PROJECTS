{
  "cells": [
    {
      "cell_type": "markdown",
      "metadata": {
        "colab_type": "text",
        "id": "view-in-github"
      },
      "source": [
        "<a href=\"https://colab.research.google.com/github/theboogeyman81/RAG_PROJECTS/blob/main/RAG_implementation_from_Scartch.ipynb\" target=\"_parent\"><img src=\"https://colab.research.google.com/assets/colab-badge.svg\" alt=\"Open In Colab\"/></a>"
      ]
    },
    {
      "cell_type": "code",
      "execution_count": 2,
      "metadata": {
        "id": "U2j8CM1Ohq4K"
      },
      "outputs": [],
      "source": [
        "corpus_of_documents = [\n",
        "    \"Take a leisurely walk in the park and enjoy the fresh air.\",\n",
        "    \"Visit a local museum and discover something new.\",\n",
        "    \"Attend a live music concert and feel the rhythm.\",\n",
        "    \"Go for a hike and admire the natural scenery.\",\n",
        "    \"Have a picnic with friends and share some laughs.\",\n",
        "    \"Explore a new cuisine by dining at an ethnic restaurant.\",\n",
        "    \"Take a yoga class and stretch your body and mind.\",\n",
        "    \"Join a local sports league and enjoy some friendly competition.\",\n",
        "    \"Attend a workshop or lecture on a topic you're interested in.\",\n",
        "    \"Visit an amusement park and ride the roller coasters.\"\n",
        "]"
      ]
    },
    {
      "cell_type": "code",
      "execution_count": 3,
      "metadata": {
        "colab": {
          "base_uri": "https://localhost:8080/"
        },
        "id": "n5FHdNwn2Zvc",
        "outputId": "0e059df0-7c13-4e62-b2ae-e7f46606785d"
      },
      "outputs": [
        {
          "data": {
            "text/plain": [
              "['Take a leisurely walk in the park and enjoy the fresh air.',\n",
              " 'Visit a local museum and discover something new.',\n",
              " 'Attend a live music concert and feel the rhythm.',\n",
              " 'Go for a hike and admire the natural scenery.',\n",
              " 'Have a picnic with friends and share some laughs.',\n",
              " 'Explore a new cuisine by dining at an ethnic restaurant.',\n",
              " 'Take a yoga class and stretch your body and mind.',\n",
              " 'Join a local sports league and enjoy some friendly competition.',\n",
              " \"Attend a workshop or lecture on a topic you're interested in.\",\n",
              " 'Visit an amusement park and ride the roller coasters.']"
            ]
          },
          "execution_count": 3,
          "metadata": {},
          "output_type": "execute_result"
        }
      ],
      "source": [
        "corpus_of_documents"
      ]
    },
    {
      "cell_type": "code",
      "execution_count": 4,
      "metadata": {
        "id": "vRg4Mvnf2lrn"
      },
      "outputs": [],
      "source": [
        "user_query=\"i am an indian and i live in india\""
      ]
    },
    {
      "cell_type": "code",
      "execution_count": 5,
      "metadata": {
        "id": "AqJoKkAl2z6r"
      },
      "outputs": [],
      "source": [
        "document=\"india is a country for the indians and for eveyone\""
      ]
    },
    {
      "cell_type": "code",
      "execution_count": 6,
      "metadata": {
        "id": "YnSvz4A_26f-"
      },
      "outputs": [],
      "source": [
        "from collections import Counter\n",
        "import math"
      ]
    },
    {
      "cell_type": "code",
      "execution_count": 7,
      "metadata": {
        "id": "K5kz6kw9o6T7"
      },
      "outputs": [],
      "source": [
        "query_tokens = user_query.lower().split(\" \")"
      ]
    },
    {
      "cell_type": "code",
      "execution_count": 8,
      "metadata": {
        "colab": {
          "base_uri": "https://localhost:8080/"
        },
        "id": "rg6ilEkFpYtG",
        "outputId": "79f4271d-d519-4d06-d6e5-a4440d3c3d8c"
      },
      "outputs": [
        {
          "data": {
            "text/plain": [
              "['i', 'am', 'an', 'indian', 'and', 'i', 'live', 'in', 'india']"
            ]
          },
          "execution_count": 8,
          "metadata": {},
          "output_type": "execute_result"
        }
      ],
      "source": [
        "query_tokens"
      ]
    },
    {
      "cell_type": "code",
      "execution_count": 9,
      "metadata": {
        "id": "NhmFBcSXpkjg"
      },
      "outputs": [],
      "source": [
        "document_tokens = document.lower().split(\" \")"
      ]
    },
    {
      "cell_type": "code",
      "execution_count": 10,
      "metadata": {
        "colab": {
          "base_uri": "https://localhost:8080/"
        },
        "id": "SvW9Ea1pqEBA",
        "outputId": "60a0e4ca-7890-4142-befa-15335a3d2185"
      },
      "outputs": [
        {
          "data": {
            "text/plain": [
              "['india',\n",
              " 'is',\n",
              " 'a',\n",
              " 'country',\n",
              " 'for',\n",
              " 'the',\n",
              " 'indians',\n",
              " 'and',\n",
              " 'for',\n",
              " 'eveyone']"
            ]
          },
          "execution_count": 10,
          "metadata": {},
          "output_type": "execute_result"
        }
      ],
      "source": [
        "document_tokens"
      ]
    },
    {
      "cell_type": "code",
      "execution_count": 11,
      "metadata": {
        "id": "Fk2W34oRrD6o"
      },
      "outputs": [],
      "source": [
        "query_counter = Counter(query_tokens)"
      ]
    },
    {
      "cell_type": "code",
      "execution_count": 12,
      "metadata": {
        "colab": {
          "base_uri": "https://localhost:8080/"
        },
        "id": "fGv-SddzrIo-",
        "outputId": "6cb43a9b-11bc-482e-a45f-f80410d2a1f5"
      },
      "outputs": [
        {
          "data": {
            "text/plain": [
              "Counter({'i': 2,\n",
              "         'am': 1,\n",
              "         'an': 1,\n",
              "         'indian': 1,\n",
              "         'and': 1,\n",
              "         'live': 1,\n",
              "         'in': 1,\n",
              "         'india': 1})"
            ]
          },
          "execution_count": 12,
          "metadata": {},
          "output_type": "execute_result"
        }
      ],
      "source": [
        "query_counter"
      ]
    },
    {
      "cell_type": "code",
      "execution_count": 13,
      "metadata": {
        "id": "Df_KSt-UqHRl"
      },
      "outputs": [],
      "source": [
        "document_counter=Counter(document_tokens)"
      ]
    },
    {
      "cell_type": "code",
      "execution_count": 14,
      "metadata": {
        "colab": {
          "base_uri": "https://localhost:8080/"
        },
        "id": "z6dbVQc2qfk4",
        "outputId": "966a63ac-107c-476b-f07f-4af8b6faf201"
      },
      "outputs": [
        {
          "data": {
            "text/plain": [
              "Counter({'india': 1,\n",
              "         'is': 1,\n",
              "         'a': 1,\n",
              "         'country': 1,\n",
              "         'for': 2,\n",
              "         'the': 1,\n",
              "         'indians': 1,\n",
              "         'and': 1,\n",
              "         'eveyone': 1})"
            ]
          },
          "execution_count": 14,
          "metadata": {},
          "output_type": "execute_result"
        }
      ],
      "source": [
        "document_counter\n"
      ]
    },
    {
      "cell_type": "code",
      "execution_count": 15,
      "metadata": {
        "id": "wo5uOajiqljq"
      },
      "outputs": [],
      "source": [
        "lst = []\n",
        "for token in query_counter.keys():\n",
        "  lst.append(query_counter[token])\n"
      ]
    },
    {
      "cell_type": "code",
      "execution_count": 16,
      "metadata": {
        "colab": {
          "base_uri": "https://localhost:8080/"
        },
        "id": "n3RH4kJ9rJ3G",
        "outputId": "2505ecc8-de1f-4627-c103-df94d4342d51"
      },
      "outputs": [
        {
          "data": {
            "text/plain": [
              "[2, 1, 1, 1, 1, 1, 1, 1]"
            ]
          },
          "execution_count": 16,
          "metadata": {},
          "output_type": "execute_result"
        }
      ],
      "source": [
        "lst"
      ]
    },
    {
      "cell_type": "code",
      "execution_count": 17,
      "metadata": {
        "colab": {
          "base_uri": "https://localhost:8080/"
        },
        "id": "yCqdvEOerLZJ",
        "outputId": "6b09a75b-55e4-459f-cbac-e22d9ad3d8ce"
      },
      "outputs": [
        {
          "name": "stdout",
          "output_type": "stream",
          "text": [
            "india\n",
            "and\n"
          ]
        }
      ],
      "source": [
        "for tokens in query_counter.keys() & document_counter.keys():\n",
        "    print(tokens)"
      ]
    },
    {
      "cell_type": "code",
      "execution_count": 18,
      "metadata": {
        "id": "87Sd3Q6NPJsW"
      },
      "outputs": [],
      "source": [
        "mylist=[]\n",
        "for tokens in query_counter.keys() & document_counter.keys():\n",
        "    mylist.append(query_counter[tokens]*document_counter[tokens])"
      ]
    },
    {
      "cell_type": "code",
      "execution_count": 19,
      "metadata": {
        "colab": {
          "base_uri": "https://localhost:8080/"
        },
        "id": "AOiJP2cUPkeS",
        "outputId": "ff05511c-6837-491c-9b92-b50f1ae68cae"
      },
      "outputs": [
        {
          "data": {
            "text/plain": [
              "[1, 1]"
            ]
          },
          "execution_count": 19,
          "metadata": {},
          "output_type": "execute_result"
        }
      ],
      "source": [
        "mylist"
      ]
    },
    {
      "cell_type": "code",
      "execution_count": 20,
      "metadata": {
        "id": "mhSVBCVVPltW"
      },
      "outputs": [],
      "source": [
        "dot_prod=sum(mylist)"
      ]
    },
    {
      "cell_type": "code",
      "execution_count": 21,
      "metadata": {
        "id": "3uVye73ePo6x"
      },
      "outputs": [],
      "source": [
        "query_magnitude = math.sqrt(sum(query_counter[token] ** 2 for token in query_counter))"
      ]
    },
    {
      "cell_type": "code",
      "execution_count": 22,
      "metadata": {
        "colab": {
          "base_uri": "https://localhost:8080/"
        },
        "id": "jGNxkdwyPqVZ",
        "outputId": "87aa50ac-6e5c-47e2-9f5b-bd317d1936f6"
      },
      "outputs": [
        {
          "data": {
            "text/plain": [
              "3.3166247903554"
            ]
          },
          "execution_count": 22,
          "metadata": {},
          "output_type": "execute_result"
        }
      ],
      "source": [
        "query_magnitude"
      ]
    },
    {
      "cell_type": "code",
      "execution_count": 23,
      "metadata": {
        "id": "XQmdSaFqPrh5"
      },
      "outputs": [],
      "source": [
        "document_magnitude = math.sqrt(sum(document_counter[token] ** 2 for token in document_counter))"
      ]
    },
    {
      "cell_type": "code",
      "execution_count": 24,
      "metadata": {
        "colab": {
          "base_uri": "https://localhost:8080/"
        },
        "id": "nv5Hi1-jPtG6",
        "outputId": "c80fc1c9-c33a-4972-cfa9-ccc95e7e4534"
      },
      "outputs": [
        {
          "data": {
            "text/plain": [
              "3.4641016151377544"
            ]
          },
          "execution_count": 24,
          "metadata": {},
          "output_type": "execute_result"
        }
      ],
      "source": [
        "\n",
        "document_magnitude"
      ]
    },
    {
      "cell_type": "code",
      "execution_count": 25,
      "metadata": {
        "id": "SJJ5aaaMPusZ"
      },
      "outputs": [],
      "source": [
        "similarity=(dot_prod)/(query_magnitude*document_magnitude)"
      ]
    },
    {
      "cell_type": "code",
      "execution_count": 26,
      "metadata": {
        "colab": {
          "base_uri": "https://localhost:8080/"
        },
        "id": "hr3QRXhMPwCK",
        "outputId": "ee2de814-e3a9-4d4c-dffb-43e274f5a1aa"
      },
      "outputs": [
        {
          "data": {
            "text/plain": [
              "0.17407765595569785"
            ]
          },
          "execution_count": 26,
          "metadata": {},
          "output_type": "execute_result"
        }
      ],
      "source": [
        "\n",
        "similarity"
      ]
    },
    {
      "cell_type": "code",
      "execution_count": 27,
      "metadata": {
        "id": "R4FVkjcnQIeo"
      },
      "outputs": [],
      "source": [
        "user_query=\"is yoga good for health\"\n",
        "document=\"yoga is very good for living healthy lifesytle.\""
      ]
    },
    {
      "cell_type": "code",
      "execution_count": 40,
      "metadata": {
        "id": "mwjhaJVdVigb"
      },
      "outputs": [],
      "source": [
        "def cosine_similarity(query,document):\n",
        "  query_tokens = user_query.lower().split(\" \")\n",
        "  document_tokens = document.lower().split(\" \")\n",
        "  query_counter = Counter(query_tokens)\n",
        "  document_counter=Counter(document_tokens)\n",
        "\n",
        "  dot_product = sum(query_counter[token] * document_counter[token] for token in query_counter.keys() & document_counter.keys())\n",
        "  query_magnitude = math.sqrt(sum(query_counter[token] ** 2 for token in query_counter))\n",
        "  document_magnitude = math.sqrt(sum(document_counter[token] ** 2 for token in document_counter))\n",
        "\n",
        "  similarity = dot_product / (query_magnitude * document_magnitude) if query_magnitude * document_magnitude != 0 else 0\n",
        "  return similarity"
      ]
    },
    {
      "cell_type": "code",
      "execution_count": 41,
      "metadata": {
        "colab": {
          "base_uri": "https://localhost:8080/"
        },
        "id": "Just6cuaWOnk",
        "outputId": "d6ca7154-09ad-4989-87e3-a664e2370a3d"
      },
      "outputs": [
        {
          "data": {
            "text/plain": [
              "0.6324555320336759"
            ]
          },
          "execution_count": 41,
          "metadata": {},
          "output_type": "execute_result"
        }
      ],
      "source": [
        "cosine_similarity(user_query,document)"
      ]
    },
    {
      "cell_type": "code",
      "execution_count": null,
      "metadata": {
        "id": "4qDbdWULXCrA"
      },
      "outputs": [],
      "source": []
    }
  ],
  "metadata": {
    "colab": {
      "authorship_tag": "ABX9TyNAhZRPdUW14B4hJI+G8dRK",
      "include_colab_link": true,
      "provenance": []
    },
    "kernelspec": {
      "display_name": "Python 3",
      "name": "python3"
    },
    "language_info": {
      "name": "python"
    }
  },
  "nbformat": 4,
  "nbformat_minor": 0
}
