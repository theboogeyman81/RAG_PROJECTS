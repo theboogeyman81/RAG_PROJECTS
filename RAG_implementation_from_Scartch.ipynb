{
  "nbformat": 4,
  "nbformat_minor": 0,
  "metadata": {
    "colab": {
      "provenance": [],
      "authorship_tag": "ABX9TyO8FyRQsp6iv5di2ExQWvh/",
      "include_colab_link": true
    },
    "kernelspec": {
      "name": "python3",
      "display_name": "Python 3"
    },
    "language_info": {
      "name": "python"
    }
  },
  "cells": [
    {
      "cell_type": "markdown",
      "metadata": {
        "id": "view-in-github",
        "colab_type": "text"
      },
      "source": [
        "<a href=\"https://colab.research.google.com/github/theboogeyman81/RAG_PROJECTS/blob/main/RAG_implementation_from_Scartch.ipynb\" target=\"_parent\"><img src=\"https://colab.research.google.com/assets/colab-badge.svg\" alt=\"Open In Colab\"/></a>"
      ]
    },
    {
      "cell_type": "code",
      "source": [
        "corpus_of_documents = [\n",
        "    \"Take a leisurely walk in the park and enjoy the fresh air.\",\n",
        "    \"Visit a local museum and discover something new.\",\n",
        "    \"Attend a live music concert and feel the rhythm.\",\n",
        "    \"Go for a hike and admire the natural scenery.\",\n",
        "    \"Have a picnic with friends and share some laughs.\",\n",
        "    \"Explore a new cuisine by dining at an ethnic restaurant.\",\n",
        "    \"Take a yoga class and stretch your body and mind.\",\n",
        "    \"Join a local sports league and enjoy some friendly competition.\",\n",
        "    \"Attend a workshop or lecture on a topic you're interested in.\",\n",
        "    \"Visit an amusement park and ride the roller coasters.\"\n",
        "]"
      ],
      "metadata": {
        "id": "U2j8CM1Ohq4K"
      },
      "execution_count": 2,
      "outputs": []
    },
    {
      "cell_type": "code",
      "source": [
        "corpus_of_documents"
      ],
      "metadata": {
        "colab": {
          "base_uri": "https://localhost:8080/"
        },
        "id": "n5FHdNwn2Zvc",
        "outputId": "0e059df0-7c13-4e62-b2ae-e7f46606785d"
      },
      "execution_count": 3,
      "outputs": [
        {
          "output_type": "execute_result",
          "data": {
            "text/plain": [
              "['Take a leisurely walk in the park and enjoy the fresh air.',\n",
              " 'Visit a local museum and discover something new.',\n",
              " 'Attend a live music concert and feel the rhythm.',\n",
              " 'Go for a hike and admire the natural scenery.',\n",
              " 'Have a picnic with friends and share some laughs.',\n",
              " 'Explore a new cuisine by dining at an ethnic restaurant.',\n",
              " 'Take a yoga class and stretch your body and mind.',\n",
              " 'Join a local sports league and enjoy some friendly competition.',\n",
              " \"Attend a workshop or lecture on a topic you're interested in.\",\n",
              " 'Visit an amusement park and ride the roller coasters.']"
            ]
          },
          "metadata": {},
          "execution_count": 3
        }
      ]
    },
    {
      "cell_type": "code",
      "source": [
        "user_query=\"i am an indian and i live in india\""
      ],
      "metadata": {
        "id": "vRg4Mvnf2lrn"
      },
      "execution_count": 4,
      "outputs": []
    },
    {
      "cell_type": "code",
      "source": [
        "document=\"india is a country for the indians and for eveyone\""
      ],
      "metadata": {
        "id": "AqJoKkAl2z6r"
      },
      "execution_count": 5,
      "outputs": []
    },
    {
      "cell_type": "code",
      "source": [
        "from collections import Counter\n",
        "import math"
      ],
      "metadata": {
        "id": "YnSvz4A_26f-"
      },
      "execution_count": 6,
      "outputs": []
    },
    {
      "cell_type": "code",
      "source": [
        "query_tokens = user_query.lower().split(\" \")"
      ],
      "metadata": {
        "id": "K5kz6kw9o6T7"
      },
      "execution_count": 7,
      "outputs": []
    },
    {
      "cell_type": "code",
      "source": [
        "query_tokens"
      ],
      "metadata": {
        "colab": {
          "base_uri": "https://localhost:8080/"
        },
        "id": "rg6ilEkFpYtG",
        "outputId": "79f4271d-d519-4d06-d6e5-a4440d3c3d8c"
      },
      "execution_count": 8,
      "outputs": [
        {
          "output_type": "execute_result",
          "data": {
            "text/plain": [
              "['i', 'am', 'an', 'indian', 'and', 'i', 'live', 'in', 'india']"
            ]
          },
          "metadata": {},
          "execution_count": 8
        }
      ]
    },
    {
      "cell_type": "code",
      "source": [
        "document_tokens = document.lower().split(\" \")"
      ],
      "metadata": {
        "id": "NhmFBcSXpkjg"
      },
      "execution_count": 9,
      "outputs": []
    },
    {
      "cell_type": "code",
      "source": [
        "document_tokens"
      ],
      "metadata": {
        "colab": {
          "base_uri": "https://localhost:8080/"
        },
        "id": "SvW9Ea1pqEBA",
        "outputId": "60a0e4ca-7890-4142-befa-15335a3d2185"
      },
      "execution_count": 10,
      "outputs": [
        {
          "output_type": "execute_result",
          "data": {
            "text/plain": [
              "['india',\n",
              " 'is',\n",
              " 'a',\n",
              " 'country',\n",
              " 'for',\n",
              " 'the',\n",
              " 'indians',\n",
              " 'and',\n",
              " 'for',\n",
              " 'eveyone']"
            ]
          },
          "metadata": {},
          "execution_count": 10
        }
      ]
    },
    {
      "cell_type": "code",
      "source": [
        "query_counter = Counter(query_tokens)"
      ],
      "metadata": {
        "id": "Fk2W34oRrD6o"
      },
      "execution_count": 11,
      "outputs": []
    },
    {
      "cell_type": "code",
      "source": [
        "query_counter"
      ],
      "metadata": {
        "colab": {
          "base_uri": "https://localhost:8080/"
        },
        "id": "fGv-SddzrIo-",
        "outputId": "6cb43a9b-11bc-482e-a45f-f80410d2a1f5"
      },
      "execution_count": 12,
      "outputs": [
        {
          "output_type": "execute_result",
          "data": {
            "text/plain": [
              "Counter({'i': 2,\n",
              "         'am': 1,\n",
              "         'an': 1,\n",
              "         'indian': 1,\n",
              "         'and': 1,\n",
              "         'live': 1,\n",
              "         'in': 1,\n",
              "         'india': 1})"
            ]
          },
          "metadata": {},
          "execution_count": 12
        }
      ]
    },
    {
      "cell_type": "code",
      "source": [
        "document_counter=Counter(document_tokens)"
      ],
      "metadata": {
        "id": "Df_KSt-UqHRl"
      },
      "execution_count": 13,
      "outputs": []
    },
    {
      "cell_type": "code",
      "source": [
        "document_counter\n"
      ],
      "metadata": {
        "colab": {
          "base_uri": "https://localhost:8080/"
        },
        "id": "z6dbVQc2qfk4",
        "outputId": "966a63ac-107c-476b-f07f-4af8b6faf201"
      },
      "execution_count": 14,
      "outputs": [
        {
          "output_type": "execute_result",
          "data": {
            "text/plain": [
              "Counter({'india': 1,\n",
              "         'is': 1,\n",
              "         'a': 1,\n",
              "         'country': 1,\n",
              "         'for': 2,\n",
              "         'the': 1,\n",
              "         'indians': 1,\n",
              "         'and': 1,\n",
              "         'eveyone': 1})"
            ]
          },
          "metadata": {},
          "execution_count": 14
        }
      ]
    },
    {
      "cell_type": "code",
      "source": [
        "lst = []\n",
        "for token in query_counter.keys():\n",
        "  lst.append(query_counter[token])\n"
      ],
      "metadata": {
        "id": "wo5uOajiqljq"
      },
      "execution_count": 15,
      "outputs": []
    },
    {
      "cell_type": "code",
      "source": [
        "lst"
      ],
      "metadata": {
        "colab": {
          "base_uri": "https://localhost:8080/"
        },
        "id": "n3RH4kJ9rJ3G",
        "outputId": "2505ecc8-de1f-4627-c103-df94d4342d51"
      },
      "execution_count": 16,
      "outputs": [
        {
          "output_type": "execute_result",
          "data": {
            "text/plain": [
              "[2, 1, 1, 1, 1, 1, 1, 1]"
            ]
          },
          "metadata": {},
          "execution_count": 16
        }
      ]
    },
    {
      "cell_type": "code",
      "source": [
        "for tokens in query_counter.keys() & document_counter.keys():\n",
        "    print(tokens)"
      ],
      "metadata": {
        "id": "yCqdvEOerLZJ",
        "colab": {
          "base_uri": "https://localhost:8080/"
        },
        "outputId": "6b09a75b-55e4-459f-cbac-e22d9ad3d8ce"
      },
      "execution_count": 17,
      "outputs": [
        {
          "output_type": "stream",
          "name": "stdout",
          "text": [
            "india\n",
            "and\n"
          ]
        }
      ]
    },
    {
      "cell_type": "code",
      "source": [
        "mylist=[]\n",
        "for tokens in query_counter.keys() & document_counter.keys():\n",
        "    mylist.append(query_counter[tokens]*document_counter[tokens])"
      ],
      "metadata": {
        "id": "87Sd3Q6NPJsW"
      },
      "execution_count": 18,
      "outputs": []
    },
    {
      "cell_type": "code",
      "source": [
        "mylist"
      ],
      "metadata": {
        "id": "AOiJP2cUPkeS",
        "outputId": "ff05511c-6837-491c-9b92-b50f1ae68cae",
        "colab": {
          "base_uri": "https://localhost:8080/"
        }
      },
      "execution_count": 19,
      "outputs": [
        {
          "output_type": "execute_result",
          "data": {
            "text/plain": [
              "[1, 1]"
            ]
          },
          "metadata": {},
          "execution_count": 19
        }
      ]
    },
    {
      "cell_type": "code",
      "source": [
        "dot_prod=sum(mylist)"
      ],
      "metadata": {
        "id": "mhSVBCVVPltW"
      },
      "execution_count": 20,
      "outputs": []
    },
    {
      "cell_type": "code",
      "source": [
        "query_magnitude = math.sqrt(sum(query_counter[token] ** 2 for token in query_counter))"
      ],
      "metadata": {
        "id": "3uVye73ePo6x"
      },
      "execution_count": 21,
      "outputs": []
    },
    {
      "cell_type": "code",
      "source": [
        "query_magnitude"
      ],
      "metadata": {
        "id": "jGNxkdwyPqVZ",
        "outputId": "87aa50ac-6e5c-47e2-9f5b-bd317d1936f6",
        "colab": {
          "base_uri": "https://localhost:8080/"
        }
      },
      "execution_count": 22,
      "outputs": [
        {
          "output_type": "execute_result",
          "data": {
            "text/plain": [
              "3.3166247903554"
            ]
          },
          "metadata": {},
          "execution_count": 22
        }
      ]
    },
    {
      "cell_type": "code",
      "source": [
        "document_magnitude = math.sqrt(sum(document_counter[token] ** 2 for token in document_counter))"
      ],
      "metadata": {
        "id": "XQmdSaFqPrh5"
      },
      "execution_count": 23,
      "outputs": []
    },
    {
      "cell_type": "code",
      "source": [
        "\n",
        "document_magnitude"
      ],
      "metadata": {
        "id": "nv5Hi1-jPtG6",
        "outputId": "c80fc1c9-c33a-4972-cfa9-ccc95e7e4534",
        "colab": {
          "base_uri": "https://localhost:8080/"
        }
      },
      "execution_count": 24,
      "outputs": [
        {
          "output_type": "execute_result",
          "data": {
            "text/plain": [
              "3.4641016151377544"
            ]
          },
          "metadata": {},
          "execution_count": 24
        }
      ]
    },
    {
      "cell_type": "code",
      "source": [
        "similarity=(dot_prod)/(query_magnitude*document_magnitude)"
      ],
      "metadata": {
        "id": "SJJ5aaaMPusZ"
      },
      "execution_count": 25,
      "outputs": []
    },
    {
      "cell_type": "code",
      "source": [
        "\n",
        "similarity"
      ],
      "metadata": {
        "id": "hr3QRXhMPwCK",
        "outputId": "ee2de814-e3a9-4d4c-dffb-43e274f5a1aa",
        "colab": {
          "base_uri": "https://localhost:8080/"
        }
      },
      "execution_count": 26,
      "outputs": [
        {
          "output_type": "execute_result",
          "data": {
            "text/plain": [
              "0.17407765595569785"
            ]
          },
          "metadata": {},
          "execution_count": 26
        }
      ]
    },
    {
      "cell_type": "code",
      "source": [],
      "metadata": {
        "id": "R4FVkjcnQIeo"
      },
      "execution_count": null,
      "outputs": []
    }
  ]
}